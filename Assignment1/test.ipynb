{
 "cells": [
  {
   "cell_type": "code",
   "execution_count": null,
   "id": "44e2a499",
   "metadata": {},
   "outputs": [],
   "source": []
  },
  {
   "cell_type": "code",
   "execution_count": 10,
   "id": "a55b0809",
   "metadata": {
    "ExecuteTime": {
     "end_time": "2022-03-27T11:04:54.520143Z",
     "start_time": "2022-03-27T11:04:54.514661Z"
    }
   },
   "outputs": [],
   "source": [
    "import numpy as np\n",
    "\n",
    "LEFT = 0\n",
    "DOWN = 1\n",
    "RIGHT = 2\n",
    "UP = 3\n",
    "\n",
    "MAP = [\n",
    "    \"SFFF\",\n",
    "    \"FHFH\",\n",
    "    \"FFFH\",\n",
    "    \"HFFG\"\n",
    "]\n",
    "\n",
    "\n",
    "class FrozenLakeEnv():\n",
    "    \"\"\"\n",
    "    Winter is here. You and your friends were tossing around a frisbee at the park\n",
    "    when you made a wild throw that left the frisbee out in the middle of the lake.\n",
    "    The water is mostly frozen, but there are a few holes where the ice has melted.\n",
    "    If you step into one of those holes, you'll fall into the freezing water.\n",
    "    The surface is described using a grid like the following\n",
    "\n",
    "        SFFF\n",
    "        FHFH\n",
    "        FFFH\n",
    "        HFFG\n",
    "\n",
    "    S : starting point, safe\n",
    "    F : frozen surface, safe\n",
    "    H : hole, fall to your doom\n",
    "    G : goal, where the frisbee is located\n",
    "    The episode ends when you reach the goal or fall in a hole.\n",
    "    You receive a reward of 1 if you reach the goal, and zero otherwise.\n",
    "    \"\"\"\n",
    "\n",
    "    def __init__(self, is_slippery):\n",
    "\n",
    "        self.map = np.asarray(MAP, dtype='c')\n",
    "        nrow, ncol = 4, 4\n",
    "        self.nA = 4\n",
    "        self.nS = nrow * ncol\n",
    "\n",
    "        def to_s(row, col):\n",
    "            return row * ncol + col\n",
    "\n",
    "        def move(row, col, a):\n",
    "            if a == 0:  # left\n",
    "                col = max(col - 1, 0)\n",
    "            elif a == 1:  # down\n",
    "                row = min(row + 1, nrow - 1)\n",
    "            elif a == 2:  # right\n",
    "                col = min(col + 1, ncol - 1)\n",
    "            elif a == 3:  # up\n",
    "                row = max(row - 1, 0)\n",
    "            return (row, col)\n",
    "\n",
    "        mdp = list()\n",
    "        for i in range(self.nS):\n",
    "            mdp.append([[], [], [], []])\n",
    "\n",
    "        for row in range(nrow):\n",
    "            for col in range(ncol):\n",
    "                s = to_s(row, col)\n",
    "                for a in range(4):\n",
    "                    letter = self.map[row, col]\n",
    "                    if letter in b'GH':\n",
    "                        mdp[s][a].append([1.0, s, 0])\n",
    "                    else:\n",
    "                        if is_slippery:\n",
    "                            for b in [(a - 1) % 4, a, (a + 1) % 4]:\n",
    "                                newrow, newcol = move(row, col, b)\n",
    "                                newstate = to_s(newrow, newcol)\n",
    "                                newletter = self.map[newrow, newcol]\n",
    "                                rew = float(newletter == b'G')\n",
    "                                mdp[s][a].append([1.0 / 3.0, newstate, rew])\n",
    "                        else:\n",
    "                            newrow, newcol = move(row, col, a)\n",
    "                            newstate = to_s(newrow, newcol)\n",
    "                            newletter = self.map[newrow][newcol]\n",
    "                            rew = float(newletter == b'G')\n",
    "                            mdp[s][a].append([1.0, newstate, rew])\n",
    "\n",
    "        self.MDP = mdp\n"
   ]
  },
  {
   "cell_type": "code",
   "execution_count": 39,
   "id": "b374d8dd",
   "metadata": {
    "ExecuteTime": {
     "end_time": "2022-03-27T12:00:31.616187Z",
     "start_time": "2022-03-27T12:00:31.614192Z"
    }
   },
   "outputs": [],
   "source": [
    "env = FrozenLakeEnv(False)"
   ]
  },
  {
   "cell_type": "code",
   "execution_count": 49,
   "id": "1d56d31e",
   "metadata": {
    "ExecuteTime": {
     "end_time": "2022-03-27T12:02:52.664743Z",
     "start_time": "2022-03-27T12:02:52.661265Z"
    }
   },
   "outputs": [
    {
     "data": {
      "text/plain": [
       "[[[1.0, 0, 0.0]], [[1.0, 4, 0.0]], [[1.0, 1, 0.0]], [[1.0, 0, 0.0]]]"
      ]
     },
     "execution_count": 49,
     "metadata": {},
     "output_type": "execute_result"
    }
   ],
   "source": [
    "env.MDP[0]"
   ]
  },
  {
   "cell_type": "code",
   "execution_count": 17,
   "id": "5185f41e",
   "metadata": {
    "ExecuteTime": {
     "end_time": "2022-03-27T11:24:44.022923Z",
     "start_time": "2022-03-27T11:24:44.018831Z"
    }
   },
   "outputs": [
    {
     "data": {
      "text/plain": [
       "[[0.3333333333333333, 0, 0.0],\n",
       " [0.3333333333333333, 4, 0.0],\n",
       " [0.3333333333333333, 1, 0.0]]"
      ]
     },
     "execution_count": 17,
     "metadata": {},
     "output_type": "execute_result"
    }
   ],
   "source": [
    "env.MDP[0][1]"
   ]
  },
  {
   "cell_type": "code",
   "execution_count": 24,
   "id": "56de49c6",
   "metadata": {
    "ExecuteTime": {
     "end_time": "2022-03-27T11:32:52.436938Z",
     "start_time": "2022-03-27T11:32:52.433607Z"
    }
   },
   "outputs": [
    {
     "data": {
      "text/plain": [
       "0"
      ]
     },
     "execution_count": 24,
     "metadata": {},
     "output_type": "execute_result"
    }
   ],
   "source": [
    "np.argmax(policy[s])"
   ]
  },
  {
   "cell_type": "code",
   "execution_count": 22,
   "id": "09520f53",
   "metadata": {
    "ExecuteTime": {
     "end_time": "2022-03-27T11:25:55.977411Z",
     "start_time": "2022-03-27T11:25:55.974461Z"
    }
   },
   "outputs": [
    {
     "data": {
      "text/plain": [
       "[[[0.3333333333333333, 0, 0.0],\n",
       "  [0.3333333333333333, 0, 0.0],\n",
       "  [0.3333333333333333, 4, 0.0]],\n",
       " [[0.3333333333333333, 0, 0.0],\n",
       "  [0.3333333333333333, 4, 0.0],\n",
       "  [0.3333333333333333, 1, 0.0]],\n",
       " [[0.3333333333333333, 4, 0.0],\n",
       "  [0.3333333333333333, 1, 0.0],\n",
       "  [0.3333333333333333, 0, 0.0]],\n",
       " [[0.3333333333333333, 1, 0.0],\n",
       "  [0.3333333333333333, 0, 0.0],\n",
       "  [0.3333333333333333, 0, 0.0]]]"
      ]
     },
     "execution_count": 22,
     "metadata": {},
     "output_type": "execute_result"
    }
   ],
   "source": [
    "env.MDP[s][policy[s]]"
   ]
  },
  {
   "cell_type": "code",
   "execution_count": 27,
   "id": "bcd79e59",
   "metadata": {
    "ExecuteTime": {
     "end_time": "2022-03-27T11:34:00.769522Z",
     "start_time": "2022-03-27T11:34:00.766437Z"
    }
   },
   "outputs": [
    {
     "data": {
      "text/plain": [
       "0.0"
      ]
     },
     "execution_count": 27,
     "metadata": {},
     "output_type": "execute_result"
    }
   ],
   "source": [
    "policy = np.ones([env.nS, env.nA]) / env.nA\n",
    "s=0\n",
    "V = np.zeros(env.nS)\n",
    "sum([prob * (r + 0.99 * V[sp]) for prob, sp, r in env.MDP[s][np.argmax(policy[s])]])"
   ]
  },
  {
   "cell_type": "code",
   "execution_count": 28,
   "id": "cdecdbd1",
   "metadata": {
    "ExecuteTime": {
     "end_time": "2022-03-27T11:37:49.062018Z",
     "start_time": "2022-03-27T11:37:49.058902Z"
    }
   },
   "outputs": [],
   "source": [
    "def value(env, V, policy, s, gamma):\n",
    "    return sum([prob * (r + gamma * V[sp]) for prob, sp, r in env.MDP[s][np.argmax(policy[s])]])"
   ]
  },
  {
   "cell_type": "code",
   "execution_count": 85,
   "id": "28adf2c7",
   "metadata": {
    "ExecuteTime": {
     "end_time": "2022-03-27T12:21:19.885862Z",
     "start_time": "2022-03-27T12:21:19.883350Z"
    }
   },
   "outputs": [
    {
     "data": {
      "text/plain": [
       "0.0"
      ]
     },
     "execution_count": 85,
     "metadata": {},
     "output_type": "execute_result"
    }
   ],
   "source": [
    "n=14\n",
    "\n",
    "value(env, V, policy, n, 0.99)"
   ]
  },
  {
   "cell_type": "code",
   "execution_count": 91,
   "id": "bcfdddd4",
   "metadata": {
    "ExecuteTime": {
     "end_time": "2022-03-27T13:16:26.333607Z",
     "start_time": "2022-03-27T13:16:26.331144Z"
    }
   },
   "outputs": [
    {
     "data": {
      "text/plain": [
       "[[[1.0, 13, 0.0]], [[1.0, 14, 0.0]], [[1.0, 15, 1.0]], [[1.0, 10, 0.0]]]"
      ]
     },
     "execution_count": 91,
     "metadata": {},
     "output_type": "execute_result"
    }
   ],
   "source": [
    "env.MDP[14]"
   ]
  },
  {
   "cell_type": "code",
   "execution_count": 51,
   "id": "67050ca2",
   "metadata": {
    "ExecuteTime": {
     "end_time": "2022-03-27T12:08:50.732187Z",
     "start_time": "2022-03-27T12:08:50.729273Z"
    }
   },
   "outputs": [
    {
     "data": {
      "text/plain": [
       "0"
      ]
     },
     "execution_count": 51,
     "metadata": {},
     "output_type": "execute_result"
    }
   ],
   "source": [
    "np.argmax([value(env, V, policy, s, 0.99) for a in range(env.nA)])"
   ]
  },
  {
   "cell_type": "code",
   "execution_count": 93,
   "id": "5b406d50",
   "metadata": {
    "ExecuteTime": {
     "end_time": "2022-03-27T13:29:23.167789Z",
     "start_time": "2022-03-27T13:29:23.165071Z"
    }
   },
   "outputs": [
    {
     "data": {
      "text/plain": [
       "array([0.25, 0.25, 0.25, 0.25])"
      ]
     },
     "execution_count": 93,
     "metadata": {},
     "output_type": "execute_result"
    }
   ],
   "source": [
    "tmp = policy[0]\n",
    "tmp"
   ]
  },
  {
   "cell_type": "code",
   "execution_count": 95,
   "id": "cfd85f41",
   "metadata": {
    "ExecuteTime": {
     "end_time": "2022-03-27T13:29:57.048982Z",
     "start_time": "2022-03-27T13:29:57.046202Z"
    }
   },
   "outputs": [
    {
     "data": {
      "text/plain": [
       "array([1., 1., 1., 1.])"
      ]
     },
     "execution_count": 95,
     "metadata": {},
     "output_type": "execute_result"
    }
   ],
   "source": [
    "policy[0].copy()"
   ]
  },
  {
   "cell_type": "code",
   "execution_count": 94,
   "id": "ca5aa242",
   "metadata": {
    "ExecuteTime": {
     "end_time": "2022-03-27T13:29:34.857230Z",
     "start_time": "2022-03-27T13:29:34.854524Z"
    }
   },
   "outputs": [
    {
     "data": {
      "text/plain": [
       "array([1., 1., 1., 1.])"
      ]
     },
     "execution_count": 94,
     "metadata": {},
     "output_type": "execute_result"
    }
   ],
   "source": [
    "policy[0] = [1,1,1,1]"
   ]
  },
  {
   "cell_type": "code",
   "execution_count": 52,
   "id": "fa74395e",
   "metadata": {
    "ExecuteTime": {
     "end_time": "2022-03-27T12:09:20.942636Z",
     "start_time": "2022-03-27T12:09:20.939668Z"
    }
   },
   "outputs": [
    {
     "data": {
      "text/plain": [
       "array([0., 0., 0., 0.])"
      ]
     },
     "execution_count": 52,
     "metadata": {},
     "output_type": "execute_result"
    }
   ],
   "source": [
    "np.zeros(4)"
   ]
  },
  {
   "cell_type": "code",
   "execution_count": 88,
   "id": "2a94343b",
   "metadata": {
    "ExecuteTime": {
     "end_time": "2022-03-27T12:34:33.955841Z",
     "start_time": "2022-03-27T12:34:33.953217Z"
    }
   },
   "outputs": [
    {
     "data": {
      "text/plain": [
       "array([1., 0., 0., 0.])"
      ]
     },
     "execution_count": 88,
     "metadata": {},
     "output_type": "execute_result"
    }
   ],
   "source": [
    "np.eye(4)[0]"
   ]
  }
 ],
 "metadata": {
  "hide_input": false,
  "kernelspec": {
   "display_name": "RL",
   "language": "python",
   "name": "rl"
  },
  "language_info": {
   "codemirror_mode": {
    "name": "ipython",
    "version": 3
   },
   "file_extension": ".py",
   "mimetype": "text/x-python",
   "name": "python",
   "nbconvert_exporter": "python",
   "pygments_lexer": "ipython3",
   "version": "3.9.7"
  },
  "varInspector": {
   "cols": {
    "lenName": 16,
    "lenType": 16,
    "lenVar": 40
   },
   "kernels_config": {
    "python": {
     "delete_cmd_postfix": "",
     "delete_cmd_prefix": "del ",
     "library": "var_list.py",
     "varRefreshCmd": "print(var_dic_list())"
    },
    "r": {
     "delete_cmd_postfix": ") ",
     "delete_cmd_prefix": "rm(",
     "library": "var_list.r",
     "varRefreshCmd": "cat(var_dic_list()) "
    }
   },
   "types_to_exclude": [
    "module",
    "function",
    "builtin_function_or_method",
    "instance",
    "_Feature"
   ],
   "window_display": false
  }
 },
 "nbformat": 4,
 "nbformat_minor": 5
}
